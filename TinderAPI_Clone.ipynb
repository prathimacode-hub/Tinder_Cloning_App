{
  "nbformat": 4,
  "nbformat_minor": 0,
  "metadata": {
    "colab": {
      "name": "TinderAPI_Clone.ipynb",
      "provenance": [],
      "collapsed_sections": []
    },
    "kernelspec": {
      "name": "python3",
      "display_name": "Python 3"
    },
    "language_info": {
      "name": "python"
    }
  },
  "cells": [
    {
      "cell_type": "markdown",
      "metadata": {
        "id": "7F_-10XPVwza"
      },
      "source": [
        "**Step1** - \n",
        "**Tinder** **API**"
      ]
    },
    {
      "cell_type": "markdown",
      "metadata": {
        "id": "0-1E0vW_U5Ae"
      },
      "source": [
        "1. See the tinder demo\n",
        "2. List all the functions which we want to build\n",
        "3. Setup DB\n",
        "4. Start building Flask API\n",
        "5. Host the API on Heroku\n"
      ]
    },
    {
      "cell_type": "markdown",
      "metadata": {
        "id": "3-Z8yKRUWEkb"
      },
      "source": [
        "**Step2** -\n",
        "**Basic prerequisites to take into consideration while creating Tinder API :**\n",
        "1. Login via mobile number using OTP -->\n",
        "2. Create profile with -->\n",
        "   1. Name\n",
        "   2. Number\n",
        "   3. Location\n",
        "      1. Lattitude & Longitude\n",
        "      2. City\n",
        "      3. State\n",
        "      4. Country\n",
        "   4. Gender\n",
        "   5. Job\n",
        "   6. Passion\n",
        "   7. Company\n",
        "   8. Age/DOB\n",
        "   9. Images * 9\n",
        "   -------------\n",
        "   10. UID (User Id)\n",
        "   11. CreatedAt\n",
        "   12. LastOpenedAt \n",
        "3. Feed -->\n",
        "   1. User Data Array []\n",
        "4. Matching -->\n",
        "   1. Left Swipe --> Rejecting\n",
        "   2. Right Swipe --> I want to talk!\n",
        "\n"
      ]
    },
    {
      "cell_type": "markdown",
      "metadata": {
        "id": "UzJnxH4eaNC8"
      },
      "source": [
        "**Step3**\n",
        "1. https://console.firebase.google.com/\n",
        "2. Auth\n",
        "3. Database --> Firestore\n",
        "4. Images Storing --> Firebase Storage\n",
        "\n",
        "Firebase Authentication is used for authenticating the user using multiple Auth providers, and default Email Id/Password\n"
      ]
    },
    {
      "cell_type": "markdown",
      "metadata": {
        "id": "BU7KIv6-eTOj"
      },
      "source": [
        "**Step4**\n",
        "Make the Auth system for Login and SignUp using API"
      ]
    },
    {
      "cell_type": "markdown",
      "metadata": {
        "id": "6gFB_WpajT76"
      },
      "source": [
        "**Step5** -\n",
        "Features we want to build\n",
        "1. Login\n",
        "2. Sign \n",
        "3. Update User-Profile\n",
        "4. Feed\n",
        "5. Matching"
      ]
    },
    {
      "cell_type": "code",
      "metadata": {
        "id": "hCiNZjexVjGl"
      },
      "source": [
        "#Auth -->\n",
        "import firebase_admin"
      ],
      "execution_count": 58,
      "outputs": []
    },
    {
      "cell_type": "code",
      "metadata": {
        "id": "WVE5SwtFNIns"
      },
      "source": [
        "# Import requirements\n",
        "from firebase_admin import auth, firestore, storage, credentials"
      ],
      "execution_count": 59,
      "outputs": []
    },
    {
      "cell_type": "code",
      "metadata": {
        "id": "6QKFojnNc_Rz"
      },
      "source": [
        "# Credentials\n",
        "cred = credentials.Certificate(\"/content/tinder-prathima-firebase-adminsdk-d98jh-32c7e606eb.json\")\n",
        "firebase_app = firebase_admin.initialize_app(cred)\n",
        "store = firestore.client()"
      ],
      "execution_count": 3,
      "outputs": []
    },
    {
      "cell_type": "code",
      "metadata": {
        "colab": {
          "base_uri": "https://localhost:8080/"
        },
        "id": "JO5NiTj2NT9G",
        "outputId": "cecf0f8f-8ea4-4e42-9979-2b04a78bab02"
      },
      "source": [
        "# Auth's Code\n",
        "user = auth.create_user(\n",
        "    email='prathimanew@gmail.com',\n",
        "    email_verified=False,\n",
        "    password='234567')\n",
        "print('Sucessfully created new user: {0}'.format(user.uid))"
      ],
      "execution_count": 60,
      "outputs": [
        {
          "output_type": "stream",
          "text": [
            "Sucessfully created new user: vyXCt76i19X0UiIP0MWgg0nQKCT2\n"
          ],
          "name": "stdout"
        }
      ]
    },
    {
      "cell_type": "code",
      "metadata": {
        "colab": {
          "base_uri": "https://localhost:8080/"
        },
        "id": "jRWnabdeezfu",
        "outputId": "d6c1a55c-70d3-4c22-f49b-2d85b1a3cfe5"
      },
      "source": [
        "# User Login\n",
        "user = auth.get_user_by_email('prathimanew@gmail.com')\n",
        "print(user.uid)"
      ],
      "execution_count": 61,
      "outputs": [
        {
          "output_type": "stream",
          "text": [
            "vyXCt76i19X0UiIP0MWgg0nQKCT2\n"
          ],
          "name": "stdout"
        }
      ]
    },
    {
      "cell_type": "code",
      "metadata": {
        "id": "SfHK1aIWgZc8"
      },
      "source": [
        "# SignUp\n",
        "def signUp(emailOfUser, passwordOfUser):\n",
        "  uid = \"\"\n",
        "  message = \"\"\n",
        "  try:\n",
        "    user = auth.create_user(\n",
        "        email = emailOfUser,\n",
        "        email_verified = False,\n",
        "        password = passwordOfUser)\n",
        "    message = \"Successsfully Created New User\"\n",
        "    uid = user.uid\n",
        "  except:   \n",
        "    message = \"User Already There\"\n",
        "\n",
        "  return {\"uid\": uid, \"message\" : message}"
      ],
      "execution_count": 62,
      "outputs": []
    },
    {
      "cell_type": "code",
      "metadata": {
        "colab": {
          "base_uri": "https://localhost:8080/"
        },
        "id": "tP49maEcotbG",
        "outputId": "20ffa439-515c-499d-d844-fe5c13285dc8"
      },
      "source": [
        "signUp(\"newprathima@gmail.com\", \"345678\")"
      ],
      "execution_count": 63,
      "outputs": [
        {
          "output_type": "execute_result",
          "data": {
            "text/plain": [
              "{'message': 'Successsfully Created New User',\n",
              " 'uid': '9wiW5zdpY7M2BnUrseQt8hzxcUf1'}"
            ]
          },
          "metadata": {
            "tags": []
          },
          "execution_count": 63
        }
      ]
    },
    {
      "cell_type": "code",
      "metadata": {
        "id": "kWM3_4a3qWn4"
      },
      "source": [
        "# Login\n",
        "# User can login with just entering email id, this is due to Firebase Auth is implemented natively.\n",
        "def login(emailOfUser, passwordOfUser):\n",
        "  uid = \"\"\n",
        "  message = \"\"\n",
        "  try:\n",
        "    user = auth.get_user_by_email(emailOfUser)\n",
        "    message = \"Successsfully Created New User\"\n",
        "    uid = user.uid\n",
        "  except:   \n",
        "    message = \"User Not There in Firebase!\"\n",
        "\n",
        "  return {\"uid\": uid, \"message\" : message}"
      ],
      "execution_count": 64,
      "outputs": []
    },
    {
      "cell_type": "code",
      "metadata": {
        "colab": {
          "base_uri": "https://localhost:8080/"
        },
        "id": "Rl80je9CrGJw",
        "outputId": "36c69a30-3da6-467a-87a0-abfa58597e05"
      },
      "source": [
        "login(\"prathimanew@gmail.com\", \"234567\")"
      ],
      "execution_count": 65,
      "outputs": [
        {
          "output_type": "execute_result",
          "data": {
            "text/plain": [
              "{'message': 'Successsfully Created New User',\n",
              " 'uid': 'vyXCt76i19X0UiIP0MWgg0nQKCT2'}"
            ]
          },
          "metadata": {
            "tags": []
          },
          "execution_count": 65
        }
      ]
    },
    {
      "cell_type": "code",
      "metadata": {
        "id": "kcRalLb-ivWi"
      },
      "source": [
        "# Update User Data\n",
        "def updateUserData(uid,dit):\n",
        "\n",
        "  dit_user_details= {}\n",
        "  dit_user_details[\"name\"] = dit[\"name\"]\n",
        "  dit_user_details[\"email\"] = dit[\"email\"]\n",
        "  dit_user_details[\"number\"] = dit[\"number\"]\n",
        "  dit_user_details[\"image\"] = dit[\"image\"]\n",
        "  dit_user_details[\"desp\"] = dit[\"desp\"]\n",
        "  dit_user_details[\"dob\"] = dit[\"dob\"]\n",
        "  dit_user_details[\"gender\"] = dit[\"gender\"]\n",
        "  dit_user_details[\"passion\"] = dit[\"passion\"]\n",
        "  dit_user_details[\"job\"] = dit[\"job\"]\n",
        "  dit_user_details[\"company\"] = dit[\"company\"]\n",
        "  dit_user_details[\"location\"] = dit[\"location\"]\n",
        "  dit_user_details[\"createdAt\"] = firestore.SERVER_TIMESTAMP\n",
        "\n",
        "  store.collection(\"users\").document(uid).set(dit_user_details) #it stores the data into firebase"
      ],
      "execution_count": 66,
      "outputs": []
    },
    {
      "cell_type": "code",
      "metadata": {
        "id": "JZIoROjamSWn"
      },
      "source": [
        "# Add User Details\n",
        "dit = {}\n",
        "\t\n",
        "dit['name'] = \"Prath\"\n",
        "dit['email'] = \"xyz@gmail.com\"\n",
        "dit['number'] = \"2345672591\"\n",
        "dit['image'] = \"imageURL\"\n",
        "dit['desp'] = \"single\"\n",
        "dit['location'] = {\"coordinate\":{\"lat\":17.431749, \"lng\":78.448250},\n",
        "\t\t\t\t\t\t\"city\":\"Bangalore\",\n",
        "\t\t\t\t\t\t\"state\":\"Karnataka\",\n",
        "\t\t\t\t\t\t\"country\":\"India\"}\n",
        "dit['dob'] = \"20/12/1989\"\n",
        "dit['gender'] = \"female\"\n",
        "dit['passion'] = \"travel\"\n",
        "dit['job'] = \"none\"\n",
        "dit['company'] = \"none\""
      ],
      "execution_count": 73,
      "outputs": []
    },
    {
      "cell_type": "code",
      "metadata": {
        "id": "9VC5p4IZyn--"
      },
      "source": [
        "updateUserData(\"vyXCt76i19X0UiIP0MWgg0nQKCT2\", dit)"
      ],
      "execution_count": 74,
      "outputs": []
    },
    {
      "cell_type": "code",
      "metadata": {
        "id": "GXD981E0_Uaj"
      },
      "source": [
        "# Get the Feed\n",
        "def getFeed(country):\n",
        "  docs = store.collection(\"users\").stream()\n",
        "\n",
        "  dit ={}\n",
        "  for doc in docs:\n",
        "    if doc.to_dict().get(\"location\").get(\"country\") == country:\n",
        "      dit[doc.id] = doc.to_dict()\n",
        "\n",
        "  return dit"
      ],
      "execution_count": 75,
      "outputs": []
    },
    {
      "cell_type": "code",
      "metadata": {
        "id": "aTJQRmWGAckS"
      },
      "source": [
        "allProfiles = getFeed(\"India\")"
      ],
      "execution_count": 76,
      "outputs": []
    },
    {
      "cell_type": "code",
      "metadata": {
        "colab": {
          "base_uri": "https://localhost:8080/"
        },
        "id": "8hbQ9ku8AxOS",
        "outputId": "41f5d71e-2851-4648-c072-02825c16aaf7"
      },
      "source": [
        "allProfiles"
      ],
      "execution_count": 77,
      "outputs": [
        {
          "output_type": "execute_result",
          "data": {
            "text/plain": [
              "{'shZjwL5hLYVxLmycX7YnULT3BIg1': {'company': 'none',\n",
              "  'createdAt': DatetimeWithNanoseconds(2021, 3, 22, 12, 49, 30, 512000, tzinfo=<UTC>),\n",
              "  'desp': 'single',\n",
              "  'dob': '06/04/1986',\n",
              "  'email': 'xyz@gmail.com',\n",
              "  'gender': 'female',\n",
              "  'image': 'imageURL',\n",
              "  'job': 'none',\n",
              "  'location': {'city': 'Hyderabad',\n",
              "   'coordinate': {'lat': 17.431749, 'lng': 78.44825},\n",
              "   'country': 'India',\n",
              "   'state': 'Telangana'},\n",
              "  'name': 'Prathima',\n",
              "  'number': '2345672951',\n",
              "  'passion': 'coding'},\n",
              " 'vyXCt76i19X0UiIP0MWgg0nQKCT2': {'company': 'none',\n",
              "  'createdAt': DatetimeWithNanoseconds(2021, 3, 22, 13, 49, 39, 778000, tzinfo=<UTC>),\n",
              "  'desp': 'single',\n",
              "  'dob': '20/12/1989',\n",
              "  'email': 'xyz@gmail.com',\n",
              "  'gender': 'female',\n",
              "  'image': 'imageURL',\n",
              "  'job': 'none',\n",
              "  'location': {'city': 'Bangalore',\n",
              "   'coordinate': {'lat': 17.431749, 'lng': 78.44825},\n",
              "   'country': 'India',\n",
              "   'state': 'Karnataka'},\n",
              "  'name': 'Prath',\n",
              "  'number': '2345672591',\n",
              "  'passion': 'travel'}}"
            ]
          },
          "metadata": {
            "tags": []
          },
          "execution_count": 77
        }
      ]
    },
    {
      "cell_type": "code",
      "metadata": {
        "id": "nooYe10gCvW1"
      },
      "source": [
        "# Swipe\n",
        "# When profile appears, right or left swipe it. Whatever we do, data should be stored.\n",
        "def swipeFun(uidA, uidB, isA_Yes, isB_Yes, firstTime):\n",
        "\tdit = {}\n",
        "\n",
        "\tdit['UID_A'] = uidA\n",
        "\tdit['UID_B'] = uidB\n",
        "\tdit[\"isUserA_Yes\"] = isA_Yes\n",
        "\tdit['isUserB_Yes'] = isB_Yes\n",
        "\tdit['SawOnce'] = firstTime\n",
        "\tdit['createdAt'] = firestore.SERVER_TIMESTAMP\n",
        "\n",
        "\tstore.collection(\"swipes\").add(dit)"
      ],
      "execution_count": 79,
      "outputs": []
    },
    {
      "cell_type": "code",
      "metadata": {
        "id": "qT2JTRLAETjL"
      },
      "source": [
        "uidA = \"vyXCt76i19X0UiIP0MWgg0nQKCT2\"\n",
        "uidB = \"9wiW5zdpY7M2BnUrseQt8hzxcUf1\"\n",
        "isA_Yes = True\n",
        "isB_Yes = False\n",
        "\n",
        "firstTime = False\n",
        "swipeFun(uidA, uidB, isA_Yes, isB_Yes, firstTime)"
      ],
      "execution_count": 80,
      "outputs": []
    },
    {
      "cell_type": "code",
      "metadata": {
        "id": "sNkZfCfgE-oM"
      },
      "source": [
        "# Match\n",
        "def getMatchFun(uid):\n",
        "\tdocs = store.collection(\"swipes\").stream()\n",
        "\n",
        "\tditSwipes = {}\n",
        "\tfor doc in docs:\n",
        "\t\tif (doc.to_dict().get(\"UID_A\") == uid or doc.to_dict().get(\"UID_B\") == uid) and (doc.to+dict().get(\"isUserA_Yes\") == True and doc.to_dict().get().get(\"isUserB_Yes\") == True):\n",
        "\t\t\tditSwipes[doc.id] = doc.to_dict()\n",
        "\n",
        "\n",
        "\treturn ditSwipes"
      ],
      "execution_count": 81,
      "outputs": []
    },
    {
      "cell_type": "code",
      "metadata": {
        "id": "22BLF9zDMjom"
      },
      "source": [
        "getMatchFun(\"9wiW5zdpY7M2BnUrseQt8hzxcUf1\")"
      ],
      "execution_count": null,
      "outputs": []
    }
  ]
}