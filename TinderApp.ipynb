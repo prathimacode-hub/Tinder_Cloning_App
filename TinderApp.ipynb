{
  "nbformat": 4,
  "nbformat_minor": 0,
  "metadata": {
    "colab": {
      "name": "TinderApp.ipynb",
      "provenance": []
    },
    "kernelspec": {
      "name": "python3",
      "display_name": "Python 3"
    },
    "language_info": {
      "name": "python"
    }
  },
  "cells": [
    {
      "cell_type": "code",
      "metadata": {
        "id": "e6PvrOZGJIRG"
      },
      "source": [
        "import firebase_admin\n",
        "from firebase_admin import auth, firestore, storage, credentials\n",
        "from flask import abort, jsonify, request, redirect\n",
        "import json\n",
        "import requests"
      ],
      "execution_count": 2,
      "outputs": []
    },
    {
      "cell_type": "code",
      "metadata": {
        "id": "SfQSFmEBNK6u"
      },
      "source": [
        "app = flask.Flask(__name__)\n",
        "\n",
        "cred = credentials.Certificate(\"tinderoken-firebase-adminsdk-dssce-43dc1f1794.json\")\n",
        "firebase_app firebase_admin.initialize_app(cred)\n",
        "store = firestore.client()"
      ],
      "execution_count": null,
      "outputs": []
    },
    {
      "cell_type": "code",
      "metadata": {
        "id": "U4zH2Lz6JRDT"
      },
      "source": [
        "@app.route('/login', methods=['POST'])\n",
        "def login():\n",
        "\tdata = requests.get_json(force=True)\n",
        "\temailOfUser = data.get(\"email\")\n",
        "\tuid = \"\"\n",
        "\tmessage = \"\"\n",
        "\ttry:\n",
        "\t\tuser = auth.get_user_by_email(emailOfUser)\n",
        "\t\tmessage = \"Succesfully Got The new user\"\n",
        "\t\tuid = user.uid\n",
        "\texcept:\n",
        "\t\tmessge = \"User not there in firebase\"\n",
        "\n",
        "\treturn {\"uid\":uid, \"message\":message, \"Response\":200}\n",
        "\treturn jsonify({\"Response\":200})"
      ],
      "execution_count": null,
      "outputs": []
    },
    {
      "cell_type": "code",
      "metadata": {
        "id": "skKWAuTJJY_T"
      },
      "source": [
        "@app.route('/signup', methods=['POST'])\n",
        "def signup():\n",
        "\tdata = requests.get_json(force=True)\n",
        "\temailOfUser = data.get(\"email\")\n",
        "\tpasswordOfUser = data.get(\"password\")\n",
        "\tuid = \"\"\n",
        "\tmessage = \"\"\n",
        "\ttry:\n",
        "\t\tuser = auth.create_user(\n",
        "\t\t\temail=emailOfUser,\n",
        "\t\t\temail_verified=False,\n",
        "\t\t\tpassword=passwordOfUser)\n",
        "\t\tmessage = \"Successfully created new user\"\n",
        "\t\tuid = user.uid\n",
        "\texcept:\n",
        "\t\tmessage = \"User already there\"\n",
        "\n",
        "\treturn {\"uid\":uid, \"message\":message, \"Response\":200}\n",
        "\treturn jsonify({\"Response\":200})\n",
        " \n",
        "if __name__ == '__main__':\n",
        "\tapp.run(host='0.0.0.0.', port=5001, debug=False)"
      ],
      "execution_count": null,
      "outputs": []
    }
  ]
}